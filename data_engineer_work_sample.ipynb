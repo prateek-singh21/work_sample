{
 "cells": [
  {
   "cell_type": "markdown",
   "id": "a4f37a58",
   "metadata": {},
   "source": [
    "# Data Engineering Pipeline\n",
    "\n",
    "Dataset: https://www.kaggle.com/datasets/jacksoncrow/stock-market-dataset. "
   ]
  },
  {
   "cell_type": "markdown",
   "id": "b709629a",
   "metadata": {},
   "source": [
    "# Problem 1: Raw Data Processing"
   ]
  },
  {
   "cell_type": "code",
   "execution_count": 2,
   "id": "612b69bf",
   "metadata": {},
   "outputs": [
    {
     "name": "stderr",
     "output_type": "stream",
     "text": [
      "Using Spark's default log4j profile: org/apache/spark/log4j-defaults.properties\n",
      "Setting default log level to \"WARN\".\n",
      "To adjust logging level use sc.setLogLevel(newLevel). For SparkR, use setLogLevel(newLevel).\n",
      "23/05/03 18:47:50 WARN NativeCodeLoader: Unable to load native-hadoop library for your platform... using builtin-java classes where applicable\n",
      "                                                                                \r"
     ]
    }
   ],
   "source": [
    "from pyspark.sql import SparkSession\n",
    "import pyspark.sql.functions as F\n",
    "from pyspark.sql.functions import input_file_name\n",
    "\n",
    "spark = SparkSession.builder.appName('data_engineer_work_sample')\\\n",
    "    .config(\"spark.network.timeout\", \"1200s\").getOrCreate()\n",
    "\n",
    "# set the path for ETF and stock data\n",
    "etf_path = 'stock-market-dataset/etfs/'\n",
    "stock_path = 'stock-market-dataset/stocks/'\n",
    "\n",
    "# Read Data using Spark's Lazy Evaluation\n",
    "etf_df = spark.read.csv(etf_path, header=True, inferSchema=True) \\\n",
    "        .withColumn(\"Symbol\", F.regexp_extract(F.input_file_name(), \"/([^/]+)\\.csv$\",1))\n",
    "stock_df = spark.read.csv(stock_path, header=True, inferSchema=True) \\\n",
    "        .withColumn(\"Symbol\", F.regexp_extract(F.input_file_name(), \"/([^/]+)\\.csv$\",1))\n",
    "\n",
    "combined_df = etf_df.union(stock_df)"
   ]
  },
  {
   "cell_type": "code",
   "execution_count": 3,
   "id": "b59c2d03",
   "metadata": {},
   "outputs": [],
   "source": [
    "symbols_df = spark.read.csv(\"stock-market-dataset/symbols_valid_meta.csv\", header = True, inferSchema = True)"
   ]
  },
  {
   "cell_type": "code",
   "execution_count": 4,
   "id": "f5f1c351",
   "metadata": {},
   "outputs": [],
   "source": [
    "data = combined_df.join(symbols_df, on = \"Symbol\")"
   ]
  },
  {
   "cell_type": "code",
   "execution_count": 5,
   "id": "8b290912",
   "metadata": {},
   "outputs": [],
   "source": [
    "from pyspark.sql.types import StructType, StructField, StringType, DoubleType, IntegerType, FloatType\n",
    "from pyspark.sql.functions import col\n",
    "\n",
    "data_schema = StructType([\n",
    "    StructField(\"Symbol\", StringType(), True),\n",
    "    StructField(\"Security_Name\", StringType(), True),\n",
    "    StructField(\"Date\", StringType(), True),\n",
    "    StructField(\"Open\", FloatType(), True),\n",
    "    StructField(\"High\", FloatType(), True),\n",
    "    StructField(\"Low\", FloatType(), True),\n",
    "    StructField(\"Close\", FloatType(), True),\n",
    "    StructField(\"Adj_Close\", FloatType(), True),\n",
    "    StructField(\"Volume\", FloatType(), True)\n",
    "])"
   ]
  },
  {
   "cell_type": "code",
   "execution_count": 6,
   "id": "e20e2ab5",
   "metadata": {},
   "outputs": [
    {
     "name": "stderr",
     "output_type": "stream",
     "text": [
      "\r",
      "[Stage 9:>                                                          (0 + 1) / 1]\r"
     ]
    },
    {
     "name": "stdout",
     "output_type": "stream",
     "text": [
      "+------+--------------------+----------+----+------+------+------+---------+-------+\n",
      "|Symbol|       Security_Name|      Date|Open|  High|   Low| Close|Adj_Close| Volume|\n",
      "+------+--------------------+----------+----+------+------+------+---------+-------+\n",
      "|   CEF|Sprott Physical G...|1986-04-03| 0.0|  4.75| 4.625| 4.625| 4.449552|15300.0|\n",
      "|   CEF|Sprott Physical G...|1986-04-04| 0.0|  4.75|4.6875|  4.75| 4.569811|12000.0|\n",
      "|   CEF|Sprott Physical G...|1986-04-07| 0.0| 4.875|  4.75|  4.75| 4.569811|11500.0|\n",
      "|   CEF|Sprott Physical G...|1986-04-08| 0.0|4.8125|4.6875|  4.75| 4.569811|21000.0|\n",
      "|   CEF|Sprott Physical G...|1986-04-09| 0.0|4.8125| 4.625|4.6875|4.5096807|22800.0|\n",
      "|   CEF|Sprott Physical G...|1986-04-10| 0.0|4.6875| 4.625| 4.625| 4.449552| 6200.0|\n",
      "|   CEF|Sprott Physical G...|1986-04-11| 0.0|4.6875|4.5625| 4.625| 4.449552|37100.0|\n",
      "|   CEF|Sprott Physical G...|1986-04-14| 0.0| 4.625|   4.5|4.5625|4.3894224|28200.0|\n",
      "|   CEF|Sprott Physical G...|1986-04-15| 0.0|4.6875|4.5625| 4.625| 4.449552|14200.0|\n",
      "|   CEF|Sprott Physical G...|1986-04-16| 0.0|4.5625|   4.5|4.5625|4.3894224|14300.0|\n",
      "|   CEF|Sprott Physical G...|1986-04-17| 0.0| 4.625|4.4375|   4.5|4.3292937|23400.0|\n",
      "|   CEF|Sprott Physical G...|1986-04-18| 0.0|   4.5|4.4375|4.4375|4.2691646|13800.0|\n",
      "|   CEF|Sprott Physical G...|1986-04-21| 0.0| 4.375|  4.25| 4.375| 4.209036|28200.0|\n",
      "|   CEF|Sprott Physical G...|1986-04-22| 0.0| 4.375|4.3125| 4.375| 4.209036| 8800.0|\n",
      "|   CEF|Sprott Physical G...|1986-04-23| 0.0|   4.5| 4.375|   4.5|4.3292937|11800.0|\n",
      "|   CEF|Sprott Physical G...|1986-04-24| 0.0|4.5625|   4.5|4.5625|4.3894224| 4300.0|\n",
      "|   CEF|Sprott Physical G...|1986-04-25| 0.0|4.5625|   4.5|4.5625|4.3894224|12400.0|\n",
      "|   CEF|Sprott Physical G...|1986-04-28| 0.0|4.5625|   4.5|   4.5|4.3292937| 4200.0|\n",
      "|   CEF|Sprott Physical G...|1986-04-29| 0.0|   4.5|4.4375|4.4375|4.2691646| 5600.0|\n",
      "|   CEF|Sprott Physical G...|1986-04-30| 0.0|   4.5| 4.375|   4.5|4.3292937|39400.0|\n",
      "+------+--------------------+----------+----+------+------+------+---------+-------+\n",
      "only showing top 20 rows\n",
      "\n"
     ]
    },
    {
     "name": "stderr",
     "output_type": "stream",
     "text": [
      "\r",
      "[Stage 9:===========================================================(1 + 0) / 1]\r",
      "\r",
      "                                                                                \r"
     ]
    }
   ],
   "source": [
    "#Creating Compiled Dataset\n",
    "data = data.withColumn(\"Date\", col(\"Date\").cast(\"string\"))\n",
    "data = spark.createDataFrame(data.select(\"Symbol\",\"Security Name\",\"Date\",\"Open\",\"High\",\"Low\",\"Close\",\"Adj Close\",\"Volume\") \\\n",
    "                             .rdd, schema= data_schema)\n",
    "data.show()"
   ]
  },
  {
   "cell_type": "code",
   "execution_count": 7,
   "id": "fd569af9",
   "metadata": {},
   "outputs": [
    {
     "name": "stderr",
     "output_type": "stream",
     "text": [
      "23/05/03 18:49:07 WARN MemoryManager: Total allocation exceeds 95.00% (906,992,014 bytes) of heap memory\n",
      "Scaling row group sizes to 96.54% for 7 writers\n",
      "23/05/03 18:49:07 WARN MemoryManager: Total allocation exceeds 95.00% (906,992,014 bytes) of heap memory\n",
      "Scaling row group sizes to 84.47% for 8 writers\n",
      "23/05/03 18:49:12 WARN MemoryManager: Total allocation exceeds 95.00% (906,992,014 bytes) of heap memory\n",
      "Scaling row group sizes to 96.54% for 7 writers\n",
      "23/05/03 18:49:14 WARN MemoryManager: Total allocation exceeds 95.00% (906,992,014 bytes) of heap memory\n",
      "Scaling row group sizes to 96.54% for 7 writers\n",
      "23/05/03 18:49:14 WARN MemoryManager: Total allocation exceeds 95.00% (906,992,014 bytes) of heap memory\n",
      "Scaling row group sizes to 84.47% for 8 writers\n",
      "23/05/03 18:49:16 WARN MemoryManager: Total allocation exceeds 95.00% (906,992,014 bytes) of heap memory\n",
      "Scaling row group sizes to 96.54% for 7 writers\n",
      "23/05/03 18:49:17 WARN MemoryManager: Total allocation exceeds 95.00% (906,992,014 bytes) of heap memory\n",
      "Scaling row group sizes to 96.54% for 7 writers\n",
      "23/05/03 18:49:17 WARN MemoryManager: Total allocation exceeds 95.00% (906,992,014 bytes) of heap memory\n",
      "Scaling row group sizes to 84.47% for 8 writers\n",
      "23/05/03 18:49:19 WARN MemoryManager: Total allocation exceeds 95.00% (906,992,014 bytes) of heap memory\n",
      "Scaling row group sizes to 96.54% for 7 writers\n",
      "23/05/03 18:49:20 WARN MemoryManager: Total allocation exceeds 95.00% (906,992,014 bytes) of heap memory\n",
      "Scaling row group sizes to 96.54% for 7 writers\n",
      "23/05/03 18:49:20 WARN MemoryManager: Total allocation exceeds 95.00% (906,992,014 bytes) of heap memory\n",
      "Scaling row group sizes to 84.47% for 8 writers\n",
      "23/05/03 18:49:21 WARN MemoryManager: Total allocation exceeds 95.00% (906,992,014 bytes) of heap memory\n",
      "Scaling row group sizes to 96.54% for 7 writers\n",
      "23/05/03 18:49:22 WARN MemoryManager: Total allocation exceeds 95.00% (906,992,014 bytes) of heap memory\n",
      "Scaling row group sizes to 96.54% for 7 writers\n",
      "23/05/03 18:49:22 WARN MemoryManager: Total allocation exceeds 95.00% (906,992,014 bytes) of heap memory\n",
      "Scaling row group sizes to 84.47% for 8 writers\n",
      "23/05/03 18:49:23 WARN MemoryManager: Total allocation exceeds 95.00% (906,992,014 bytes) of heap memory\n",
      "Scaling row group sizes to 96.54% for 7 writers\n",
      "23/05/03 18:49:24 WARN MemoryManager: Total allocation exceeds 95.00% (906,992,014 bytes) of heap memory\n",
      "Scaling row group sizes to 96.54% for 7 writers\n",
      "23/05/03 18:49:24 WARN MemoryManager: Total allocation exceeds 95.00% (906,992,014 bytes) of heap memory\n",
      "Scaling row group sizes to 84.47% for 8 writers\n",
      "23/05/03 18:49:24 WARN MemoryManager: Total allocation exceeds 95.00% (906,992,014 bytes) of heap memory\n",
      "Scaling row group sizes to 96.54% for 7 writers\n",
      "23/05/03 18:49:25 WARN MemoryManager: Total allocation exceeds 95.00% (906,992,014 bytes) of heap memory\n",
      "Scaling row group sizes to 96.54% for 7 writers\n",
      "23/05/03 18:49:25 WARN MemoryManager: Total allocation exceeds 95.00% (906,992,014 bytes) of heap memory\n",
      "Scaling row group sizes to 84.47% for 8 writers\n",
      "23/05/03 18:49:25 WARN MemoryManager: Total allocation exceeds 95.00% (906,992,014 bytes) of heap memory\n",
      "Scaling row group sizes to 96.54% for 7 writers\n",
      "23/05/03 18:49:26 WARN MemoryManager: Total allocation exceeds 95.00% (906,992,014 bytes) of heap memory\n",
      "Scaling row group sizes to 96.54% for 7 writers\n",
      "23/05/03 18:49:26 WARN MemoryManager: Total allocation exceeds 95.00% (906,992,014 bytes) of heap memory\n",
      "Scaling row group sizes to 84.47% for 8 writers\n",
      "23/05/03 18:49:26 WARN MemoryManager: Total allocation exceeds 95.00% (906,992,014 bytes) of heap memory\n",
      "Scaling row group sizes to 96.54% for 7 writers\n",
      "23/05/03 18:49:27 WARN MemoryManager: Total allocation exceeds 95.00% (906,992,014 bytes) of heap memory\n",
      "Scaling row group sizes to 96.54% for 7 writers\n",
      "23/05/03 18:49:27 WARN MemoryManager: Total allocation exceeds 95.00% (906,992,014 bytes) of heap memory\n",
      "Scaling row group sizes to 84.47% for 8 writers\n",
      "23/05/03 18:49:33 WARN MemoryManager: Total allocation exceeds 95.00% (906,992,014 bytes) of heap memory\n",
      "Scaling row group sizes to 96.54% for 7 writers\n",
      "23/05/03 18:49:34 WARN MemoryManager: Total allocation exceeds 95.00% (906,992,014 bytes) of heap memory\n",
      "Scaling row group sizes to 96.54% for 7 writers\n",
      "23/05/03 18:49:34 WARN MemoryManager: Total allocation exceeds 95.00% (906,992,014 bytes) of heap memory\n",
      "Scaling row group sizes to 84.47% for 8 writers\n",
      "23/05/03 18:49:34 WARN MemoryManager: Total allocation exceeds 95.00% (906,992,014 bytes) of heap memory\n",
      "Scaling row group sizes to 96.54% for 7 writers\n",
      "23/05/03 18:49:35 WARN MemoryManager: Total allocation exceeds 95.00% (906,992,014 bytes) of heap memory\n",
      "Scaling row group sizes to 96.54% for 7 writers\n",
      "23/05/03 18:49:35 WARN MemoryManager: Total allocation exceeds 95.00% (906,992,014 bytes) of heap memory\n",
      "Scaling row group sizes to 84.47% for 8 writers\n",
      "23/05/03 18:49:40 WARN MemoryManager: Total allocation exceeds 95.00% (906,992,014 bytes) of heap memory\n",
      "Scaling row group sizes to 96.54% for 7 writers\n",
      "23/05/03 18:49:41 WARN MemoryManager: Total allocation exceeds 95.00% (906,992,014 bytes) of heap memory\n",
      "Scaling row group sizes to 96.54% for 7 writers\n",
      "23/05/03 18:49:41 WARN MemoryManager: Total allocation exceeds 95.00% (906,992,014 bytes) of heap memory\n",
      "Scaling row group sizes to 84.47% for 8 writers\n",
      "23/05/03 18:49:41 WARN MemoryManager: Total allocation exceeds 95.00% (906,992,014 bytes) of heap memory\n",
      "Scaling row group sizes to 96.54% for 7 writers\n",
      "23/05/03 18:49:42 WARN MemoryManager: Total allocation exceeds 95.00% (906,992,014 bytes) of heap memory\n",
      "Scaling row group sizes to 96.54% for 7 writers\n",
      "23/05/03 18:49:42 WARN MemoryManager: Total allocation exceeds 95.00% (906,992,014 bytes) of heap memory\n",
      "Scaling row group sizes to 84.47% for 8 writers\n",
      "23/05/03 18:49:47 WARN MemoryManager: Total allocation exceeds 95.00% (906,992,014 bytes) of heap memory\n",
      "Scaling row group sizes to 96.54% for 7 writers\n",
      "23/05/03 18:49:48 WARN MemoryManager: Total allocation exceeds 95.00% (906,992,014 bytes) of heap memory\n",
      "Scaling row group sizes to 96.54% for 7 writers\n",
      "23/05/03 18:49:48 WARN MemoryManager: Total allocation exceeds 95.00% (906,992,014 bytes) of heap memory\n",
      "Scaling row group sizes to 84.47% for 8 writers\n",
      "23/05/03 18:49:53 WARN MemoryManager: Total allocation exceeds 95.00% (906,992,014 bytes) of heap memory\n",
      "Scaling row group sizes to 96.54% for 7 writers\n",
      "23/05/03 18:49:54 WARN MemoryManager: Total allocation exceeds 95.00% (906,992,014 bytes) of heap memory\n",
      "Scaling row group sizes to 96.54% for 7 writers\n",
      "23/05/03 18:49:54 WARN MemoryManager: Total allocation exceeds 95.00% (906,992,014 bytes) of heap memory\n",
      "Scaling row group sizes to 84.47% for 8 writers\n",
      "23/05/03 18:49:59 WARN MemoryManager: Total allocation exceeds 95.00% (906,992,014 bytes) of heap memory\n",
      "Scaling row group sizes to 96.54% for 7 writers\n",
      "23/05/03 18:50:00 WARN MemoryManager: Total allocation exceeds 95.00% (906,992,014 bytes) of heap memory\n",
      "Scaling row group sizes to 96.54% for 7 writers\n",
      "23/05/03 18:50:00 WARN MemoryManager: Total allocation exceeds 95.00% (906,992,014 bytes) of heap memory\n",
      "Scaling row group sizes to 84.47% for 8 writers\n",
      "23/05/03 18:50:04 WARN MemoryManager: Total allocation exceeds 95.00% (906,992,014 bytes) of heap memory\n",
      "Scaling row group sizes to 96.54% for 7 writers\n",
      "23/05/03 18:50:05 WARN MemoryManager: Total allocation exceeds 95.00% (906,992,014 bytes) of heap memory\n",
      "Scaling row group sizes to 96.54% for 7 writers\n",
      "23/05/03 18:50:05 WARN MemoryManager: Total allocation exceeds 95.00% (906,992,014 bytes) of heap memory\n",
      "Scaling row group sizes to 96.54% for 7 writers\n",
      "23/05/03 18:50:06 WARN MemoryManager: Total allocation exceeds 95.00% (906,992,014 bytes) of heap memory\n",
      "Scaling row group sizes to 96.54% for 7 writers\n",
      "23/05/03 18:50:06 WARN MemoryManager: Total allocation exceeds 95.00% (906,992,014 bytes) of heap memory\n",
      "Scaling row group sizes to 84.47% for 8 writers\n",
      "23/05/03 18:50:09 WARN MemoryManager: Total allocation exceeds 95.00% (906,992,014 bytes) of heap memory\n",
      "Scaling row group sizes to 96.54% for 7 writers\n",
      "23/05/03 18:50:09 WARN MemoryManager: Total allocation exceeds 95.00% (906,992,014 bytes) of heap memory\n",
      "Scaling row group sizes to 96.54% for 7 writers\n"
     ]
    },
    {
     "name": "stderr",
     "output_type": "stream",
     "text": [
      "23/05/03 18:50:09 WARN MemoryManager: Total allocation exceeds 95.00% (906,992,014 bytes) of heap memory\n",
      "Scaling row group sizes to 84.47% for 8 writers\n",
      "23/05/03 18:50:10 WARN MemoryManager: Total allocation exceeds 95.00% (906,992,014 bytes) of heap memory\n",
      "Scaling row group sizes to 96.54% for 7 writers\n",
      "23/05/03 18:50:10 WARN MemoryManager: Total allocation exceeds 95.00% (906,992,014 bytes) of heap memory\n",
      "Scaling row group sizes to 84.47% for 8 writers\n",
      "23/05/03 18:50:10 WARN MemoryManager: Total allocation exceeds 95.00% (906,992,014 bytes) of heap memory\n",
      "Scaling row group sizes to 96.54% for 7 writers\n",
      "23/05/03 18:50:11 WARN MemoryManager: Total allocation exceeds 95.00% (906,992,014 bytes) of heap memory\n",
      "Scaling row group sizes to 84.47% for 8 writers\n",
      "23/05/03 18:50:14 WARN MemoryManager: Total allocation exceeds 95.00% (906,992,014 bytes) of heap memory\n",
      "Scaling row group sizes to 96.54% for 7 writers\n",
      "23/05/03 18:50:14 WARN MemoryManager: Total allocation exceeds 95.00% (906,992,014 bytes) of heap memory\n",
      "Scaling row group sizes to 96.54% for 7 writers\n",
      "23/05/03 18:50:15 WARN MemoryManager: Total allocation exceeds 95.00% (906,992,014 bytes) of heap memory\n",
      "Scaling row group sizes to 84.47% for 8 writers\n",
      "23/05/03 18:50:18 WARN MemoryManager: Total allocation exceeds 95.00% (906,992,014 bytes) of heap memory\n",
      "Scaling row group sizes to 96.54% for 7 writers\n",
      "23/05/03 18:50:19 WARN MemoryManager: Total allocation exceeds 95.00% (906,992,014 bytes) of heap memory\n",
      "Scaling row group sizes to 96.54% for 7 writers\n",
      "23/05/03 18:50:19 WARN MemoryManager: Total allocation exceeds 95.00% (906,992,014 bytes) of heap memory\n",
      "Scaling row group sizes to 84.47% for 8 writers\n",
      "23/05/03 18:50:22 WARN MemoryManager: Total allocation exceeds 95.00% (906,992,014 bytes) of heap memory\n",
      "Scaling row group sizes to 96.54% for 7 writers\n",
      "23/05/03 18:50:22 WARN MemoryManager: Total allocation exceeds 95.00% (906,992,014 bytes) of heap memory\n",
      "Scaling row group sizes to 96.54% for 7 writers\n",
      "23/05/03 18:50:23 WARN MemoryManager: Total allocation exceeds 95.00% (906,992,014 bytes) of heap memory\n",
      "Scaling row group sizes to 84.47% for 8 writers\n",
      "23/05/03 18:50:25 WARN MemoryManager: Total allocation exceeds 95.00% (906,992,014 bytes) of heap memory\n",
      "Scaling row group sizes to 96.54% for 7 writers\n",
      "23/05/03 18:50:26 WARN MemoryManager: Total allocation exceeds 95.00% (906,992,014 bytes) of heap memory\n",
      "Scaling row group sizes to 96.54% for 7 writers\n",
      "23/05/03 18:50:26 WARN MemoryManager: Total allocation exceeds 95.00% (906,992,014 bytes) of heap memory\n",
      "Scaling row group sizes to 84.47% for 8 writers\n",
      "23/05/03 18:50:29 WARN MemoryManager: Total allocation exceeds 95.00% (906,992,014 bytes) of heap memory\n",
      "Scaling row group sizes to 96.54% for 7 writers\n",
      "23/05/03 18:50:29 WARN MemoryManager: Total allocation exceeds 95.00% (906,992,014 bytes) of heap memory\n",
      "Scaling row group sizes to 96.54% for 7 writers\n",
      "23/05/03 18:50:29 WARN MemoryManager: Total allocation exceeds 95.00% (906,992,014 bytes) of heap memory\n",
      "Scaling row group sizes to 84.47% for 8 writers\n",
      "23/05/03 18:50:31 WARN MemoryManager: Total allocation exceeds 95.00% (906,992,014 bytes) of heap memory\n",
      "Scaling row group sizes to 96.54% for 7 writers\n",
      "23/05/03 18:50:32 WARN MemoryManager: Total allocation exceeds 95.00% (906,992,014 bytes) of heap memory\n",
      "Scaling row group sizes to 96.54% for 7 writers\n",
      "23/05/03 18:50:32 WARN MemoryManager: Total allocation exceeds 95.00% (906,992,014 bytes) of heap memory\n",
      "Scaling row group sizes to 84.47% for 8 writers\n",
      "23/05/03 18:50:34 WARN MemoryManager: Total allocation exceeds 95.00% (906,992,014 bytes) of heap memory\n",
      "Scaling row group sizes to 96.54% for 7 writers\n",
      "23/05/03 18:50:35 WARN MemoryManager: Total allocation exceeds 95.00% (906,992,014 bytes) of heap memory\n",
      "Scaling row group sizes to 96.54% for 7 writers\n",
      "23/05/03 18:50:35 WARN MemoryManager: Total allocation exceeds 95.00% (906,992,014 bytes) of heap memory\n",
      "Scaling row group sizes to 84.47% for 8 writers\n",
      "23/05/03 18:50:37 WARN MemoryManager: Total allocation exceeds 95.00% (906,992,014 bytes) of heap memory\n",
      "Scaling row group sizes to 96.54% for 7 writers\n",
      "23/05/03 18:50:37 WARN MemoryManager: Total allocation exceeds 95.00% (906,992,014 bytes) of heap memory\n",
      "Scaling row group sizes to 96.54% for 7 writers\n",
      "23/05/03 18:50:37 WARN MemoryManager: Total allocation exceeds 95.00% (906,992,014 bytes) of heap memory\n",
      "Scaling row group sizes to 84.47% for 8 writers\n",
      "23/05/03 18:50:39 WARN MemoryManager: Total allocation exceeds 95.00% (906,992,014 bytes) of heap memory\n",
      "Scaling row group sizes to 96.54% for 7 writers\n",
      "23/05/03 18:50:39 WARN MemoryManager: Total allocation exceeds 95.00% (906,992,014 bytes) of heap memory\n",
      "Scaling row group sizes to 96.54% for 7 writers\n",
      "23/05/03 18:50:39 WARN MemoryManager: Total allocation exceeds 95.00% (906,992,014 bytes) of heap memory\n",
      "Scaling row group sizes to 84.47% for 8 writers\n",
      "23/05/03 18:50:41 WARN MemoryManager: Total allocation exceeds 95.00% (906,992,014 bytes) of heap memory\n",
      "Scaling row group sizes to 96.54% for 7 writers\n",
      "23/05/03 18:50:41 WARN MemoryManager: Total allocation exceeds 95.00% (906,992,014 bytes) of heap memory\n",
      "Scaling row group sizes to 96.54% for 7 writers\n",
      "23/05/03 18:50:42 WARN MemoryManager: Total allocation exceeds 95.00% (906,992,014 bytes) of heap memory\n",
      "Scaling row group sizes to 84.47% for 8 writers\n",
      "23/05/03 18:50:43 WARN MemoryManager: Total allocation exceeds 95.00% (906,992,014 bytes) of heap memory\n",
      "Scaling row group sizes to 96.54% for 7 writers\n",
      "23/05/03 18:50:43 WARN MemoryManager: Total allocation exceeds 95.00% (906,992,014 bytes) of heap memory\n",
      "Scaling row group sizes to 96.54% for 7 writers\n",
      "23/05/03 18:50:43 WARN MemoryManager: Total allocation exceeds 95.00% (906,992,014 bytes) of heap memory\n",
      "Scaling row group sizes to 84.47% for 8 writers\n",
      "23/05/03 18:50:44 WARN MemoryManager: Total allocation exceeds 95.00% (906,992,014 bytes) of heap memory\n",
      "Scaling row group sizes to 96.54% for 7 writers\n",
      "23/05/03 18:50:44 WARN MemoryManager: Total allocation exceeds 95.00% (906,992,014 bytes) of heap memory\n",
      "Scaling row group sizes to 96.54% for 7 writers\n",
      "23/05/03 18:50:44 WARN MemoryManager: Total allocation exceeds 95.00% (906,992,014 bytes) of heap memory\n",
      "Scaling row group sizes to 84.47% for 8 writers\n",
      "23/05/03 18:50:45 WARN MemoryManager: Total allocation exceeds 95.00% (906,992,014 bytes) of heap memory\n",
      "Scaling row group sizes to 96.54% for 7 writers\n",
      "23/05/03 18:50:46 WARN MemoryManager: Total allocation exceeds 95.00% (906,992,014 bytes) of heap memory\n",
      "Scaling row group sizes to 96.54% for 7 writers\n",
      "23/05/03 18:50:46 WARN MemoryManager: Total allocation exceeds 95.00% (906,992,014 bytes) of heap memory\n",
      "Scaling row group sizes to 84.47% for 8 writers\n",
      "23/05/03 18:50:46 WARN MemoryManager: Total allocation exceeds 95.00% (906,992,014 bytes) of heap memory\n",
      "Scaling row group sizes to 96.54% for 7 writers\n",
      "23/05/03 18:50:47 WARN MemoryManager: Total allocation exceeds 95.00% (906,992,014 bytes) of heap memory\n",
      "Scaling row group sizes to 96.54% for 7 writers\n",
      "23/05/03 18:50:47 WARN MemoryManager: Total allocation exceeds 95.00% (906,992,014 bytes) of heap memory\n",
      "Scaling row group sizes to 84.47% for 8 writers\n",
      "23/05/03 18:50:47 WARN MemoryManager: Total allocation exceeds 95.00% (906,992,014 bytes) of heap memory\n",
      "Scaling row group sizes to 96.54% for 7 writers\n",
      "23/05/03 18:50:48 WARN MemoryManager: Total allocation exceeds 95.00% (906,992,014 bytes) of heap memory\n",
      "Scaling row group sizes to 96.54% for 7 writers\n",
      "23/05/03 18:50:48 WARN MemoryManager: Total allocation exceeds 95.00% (906,992,014 bytes) of heap memory\n",
      "Scaling row group sizes to 84.47% for 8 writers\n",
      "23/05/03 18:50:48 WARN MemoryManager: Total allocation exceeds 95.00% (906,992,014 bytes) of heap memory\n",
      "Scaling row group sizes to 96.54% for 7 writers\n",
      "                                                                                \r"
     ]
    }
   ],
   "source": [
    "#Saving data to Disk\n",
    "data.write.mode(\"overwrite\").parquet(\"pyspark_data_raw.parquet\")"
   ]
  },
  {
   "cell_type": "markdown",
   "id": "7f860d5d",
   "metadata": {},
   "source": [
    "# Problem 2: Feature Engineering"
   ]
  },
  {
   "cell_type": "code",
   "execution_count": 8,
   "id": "61bb35e8",
   "metadata": {},
   "outputs": [
    {
     "name": "stderr",
     "output_type": "stream",
     "text": [
      "23/05/03 18:51:31 WARN WindowExec: No Partition Defined for Window operation! Moving all data to a single partition, this can cause serious performance degradation.\n",
      "23/05/03 18:51:31 WARN WindowExec: No Partition Defined for Window operation! Moving all data to a single partition, this can cause serious performance degradation.\n",
      "23/05/03 18:52:53 WARN WindowExec: No Partition Defined for Window operation! Moving all data to a single partition, this can cause serious performance degradation.\n",
      "[Stage 13:>                                                         (0 + 1) / 1]\r"
     ]
    },
    {
     "name": "stdout",
     "output_type": "stream",
     "text": [
      "+------+--------------------+----------+----------+-----------+----------+----------+------------+---------+------------------+\n",
      "|Symbol|       Security_Name|      Date|      Open|       High|       Low|     Close|   Adj_Close|   Volume|    vol_moving_avg|\n",
      "+------+--------------------+----------+----------+-----------+----------+----------+------------+---------+------------------+\n",
      "|   HPQ|HP Inc. Common Stock|1962-01-02| 0.1312727|  0.1312727|0.12417688|0.12417688| 0.006887285|2480300.0|         2480300.0|\n",
      "|    AA|Alcoa Corporation...|1962-01-02|  6.532155|   6.556185|  6.532155|  6.532155|   1.5366576|  55900.0|         1268100.0|\n",
      "|    GE|General Electric ...|1962-01-02| 0.7512019| 0.76372194| 0.7436899|0.74869794|0.0017815924|2156500.0|1564233.3333333333|\n",
      "|    IP|International Pap...|1962-01-02|       0.0|   9.064277|  8.852777|  8.852777|  0.77576894|  48600.0|         1185325.0|\n",
      "|   DIS|Walt Disney Compa...|1962-01-02|0.09290839|0.096026115|0.09290839|0.09290839| 0.035517246| 817400.0|         1111740.0|\n",
      "|    MO|  Altria Group, Inc.|1962-01-02|       0.0| 0.19184028| 0.1892361| 0.1892361|2.3162183E-4| 345600.0|          984050.0|\n",
      "|  ARNC|Arconic Corporati...|1962-01-02| 6.1258435|   6.160982| 6.1258435| 6.1258435|   1.4146507|  59700.0|          852000.0|\n",
      "|    BA|Boeing Company (T...|1962-01-02|0.83744854| 0.83744854|0.82304525|0.82304525|   0.1457476| 352200.0|          789525.0|\n",
      "|    KO|Coca-Cola Company...|1962-01-02|0.26302084| 0.27018228|0.26302084|0.26302084|  0.00423772| 806400.0|          791400.0|\n",
      "|   JNJ|Johnson & Johnson...|1962-01-02|       0.0| 0.22337963|0.22222222|0.22337963| 6.281419E-7|      0.0|          712260.0|\n",
      "|   CAT|Caterpillar, Inc....|1962-01-02| 1.6041666|  1.6197916| 1.5885416| 1.6041666|  0.13695742| 163200.0| 662345.4545454546|\n",
      "|   IBM|International Bus...|1962-01-02|  7.713333|   7.713333| 7.6266665| 7.6266665|   0.6181529| 387200.0| 639416.6666666666|\n",
      "|    PG|Procter & Gamble ...|1962-01-02|       0.0|  1.4414062|  1.421875| 1.4296875| 0.013509385| 192000.0|          605000.0|\n",
      "|   XOM|Exxon Mobil Corpo...|1962-01-02|       0.0|  1.5898438|  1.578125|  1.578125| 0.013913333| 902400.0| 626242.8571428572|\n",
      "|   CVX|Chevron Corporati...|1962-01-02|       0.0|   3.296131| 3.2440476|  3.296131| 0.051992513| 105600.0| 591533.3333333334|\n",
      "|    FL|   Foot Locker, Inc.|1962-01-02|       0.0|     7.6875| 7.5416665| 7.5833335|   0.9789446|  49200.0|          557637.5|\n",
      "|    GT|The Goodyear Tire...|1962-01-02|       0.0|    11.1875|      11.0|    11.125|   1.9360236|  32000.0| 526717.6470588235|\n",
      "|    ED|Consolidated Edis...|1962-01-02|       0.0|   10.28125|    10.125|    10.125|  0.22735077|  25600.0|498877.77777777775|\n",
      "|   DTE|DTE Energy Compan...|1962-01-02|       0.0|    30.6875|    30.375|    30.375|   0.5069433|   1600.0| 472705.2631578947|\n",
      "|   NAV|Navistar Internat...|1962-01-02|       0.0|    263.125|   258.125|   260.625|  116.558205|    400.0|          449090.0|\n",
      "+------+--------------------+----------+----------+-----------+----------+----------+------------+---------+------------------+\n",
      "only showing top 20 rows\n",
      "\n"
     ]
    },
    {
     "name": "stderr",
     "output_type": "stream",
     "text": [
      "\r",
      "                                                                                \r"
     ]
    }
   ],
   "source": [
    "from pyspark.sql.functions import col, avg\n",
    "from pyspark.sql.window import Window\n",
    "\n",
    "window_spec = Window.orderBy(F.col('Date').cast('timestamp')).rowsBetween(-29, 0)\n",
    "feat_data = data.withColumn(\"vol_moving_avg\", avg(col(\"Volume\")).over(window_spec))\n",
    "feat_data.show()"
   ]
  },
  {
   "cell_type": "code",
   "execution_count": 9,
   "id": "b0fc7084",
   "metadata": {},
   "outputs": [
    {
     "name": "stderr",
     "output_type": "stream",
     "text": [
      "23/05/03 18:54:09 WARN WindowExec: No Partition Defined for Window operation! Moving all data to a single partition, this can cause serious performance degradation.\n",
      "23/05/03 18:55:30 WARN WindowExec: No Partition Defined for Window operation! Moving all data to a single partition, this can cause serious performance degradation.\n",
      "[Stage 16:>                                                         (0 + 1) / 1]\r"
     ]
    },
    {
     "name": "stdout",
     "output_type": "stream",
     "text": [
      "+------+--------------------+----------+---------+---------+---------+---------+---------+---------+------------------+---------------------+\n",
      "|Symbol|       Security_Name|      Date|     Open|     High|      Low|    Close|Adj_Close|   Volume|    vol_moving_avg|adj_close_rolling_med|\n",
      "+------+--------------------+----------+---------+---------+---------+---------+---------+---------+------------------+---------------------+\n",
      "|     A|Agilent Technolog...|1999-11-18|32.546494| 35.76538|28.612303|31.473534|27.068665|6.25463E7|2471216.6666666665|            27.068665|\n",
      "|     A|Agilent Technolog...|1999-11-19| 30.71352|30.758226|28.478184|28.880543|24.838577|1.52341E7| 900926.6666666666|            24.838577|\n",
      "|     A|Agilent Technolog...|1999-11-22|29.551144|31.473534| 28.65701|31.473534|27.068665|6577800.0| 932106.6666666666|            27.068665|\n",
      "|     A|Agilent Technolog...|1999-11-23|30.400572|31.205294|28.612303|28.612303| 24.60788|5975600.0|         2170640.0|            24.838577|\n",
      "|     A|Agilent Technolog...|1999-11-24|28.701717| 29.99821|28.612303|29.372318|25.261524|4843200.0|1190586.5333333334|            25.261524|\n",
      "|     A|Agilent Technolog...|1999-11-26|29.238197|29.685265|29.148785|29.461731|25.338428|1729400.0| 591886.6666666666|            25.261524|\n",
      "|     A|Agilent Technolog...|1999-11-29| 29.32761|30.355865|29.014664|30.132332|25.915169|4074700.0|1053762.4666666666|            25.338428|\n",
      "|     A|Agilent Technolog...|1999-11-30| 30.04292| 30.71352|29.282904|30.177038|25.953619|4310000.0|1931823.3333333333|            25.338428|\n",
      "|     A|Agilent Technolog...|1999-12-01|30.177038|31.071173|29.953505| 30.71352|26.415012|2957300.0| 5769646.666666667|            25.915169|\n",
      "|     A|Agilent Technolog...|1999-12-02|31.294706|32.188843|30.892345|31.562946|27.145563|3069800.0|         1082940.0|            25.915169|\n",
      "|     A|Agilent Technolog...|1999-12-03|32.144135|32.680614|31.697067|31.831188|27.376266|3041600.0| 710916.6666666666|            25.953619|\n",
      "|     A|Agilent Technolog...|1999-12-06| 32.36767|33.217094| 32.32296|32.725323|28.145258|2250700.0| 630293.3333333334|            25.953619|\n",
      "|     A|Agilent Technolog...|1999-12-07|32.725323| 32.90415|31.697067| 32.36767|27.837664|2215900.0| 668666.6666666666|            26.415012|\n",
      "|     A|Agilent Technolog...|1999-12-08| 32.36767| 32.63591| 32.05472| 32.32296|27.799208|1887800.0| 951373.3333333334|            26.415012|\n",
      "|     A|Agilent Technolog...|1999-12-09| 32.36767|32.859444| 32.36767|32.770027| 28.18371|2029000.0|1706363.3333333333|            27.068665|\n",
      "|     A|Agilent Technolog...|1999-12-10|32.680614|32.859444|32.010014|32.010014|27.530067|1664700.0|         2494310.0|            27.068665|\n",
      "|     A|Agilent Technolog...|1999-12-13|32.546494|33.082977|31.741774|32.546494| 27.99146|4020500.0|          843290.0|            27.068665|\n",
      "|     A|Agilent Technolog...|1999-12-14| 32.45708| 32.45708|30.087626|30.758226|26.453466|2328900.0| 700386.6666666666|            27.068665|\n",
      "|     A|Agilent Technolog...|1999-12-15| 30.04292|30.266453| 29.32761|29.819386| 25.64602|2917700.0| 5733166.666666667|            27.068665|\n",
      "|     A|Agilent Technolog...|1999-12-16| 30.04292|33.798283| 30.04292|33.798283|29.068048|2583900.0|          620690.0|            27.068665|\n",
      "+------+--------------------+----------+---------+---------+---------+---------+---------+---------+------------------+---------------------+\n",
      "only showing top 20 rows\n",
      "\n"
     ]
    },
    {
     "name": "stderr",
     "output_type": "stream",
     "text": [
      "\r",
      "                                                                                \r"
     ]
    }
   ],
   "source": [
    "from pyspark.sql.functions import col, expr\n",
    "\n",
    "window_spec = Window.partitionBy(\"Symbol\").orderBy(\"Date\").rowsBetween(-29, 0)\n",
    "feat_data = feat_data.withColumn(\"adj_close_rolling_med\", expr(\"percentile_approx(`Adj_Close`, 0.5)\").over(window_spec))\n",
    "feat_data.show()"
   ]
  },
  {
   "cell_type": "code",
   "execution_count": 10,
   "id": "379c0f07",
   "metadata": {},
   "outputs": [
    {
     "name": "stderr",
     "output_type": "stream",
     "text": [
      "23/05/03 19:00:37 WARN WindowExec: No Partition Defined for Window operation! Moving all data to a single partition, this can cause serious performance degradation.\n",
      "23/05/03 19:02:19 WARN WindowExec: No Partition Defined for Window operation! Moving all data to a single partition, this can cause serious performance degradation.\n",
      "                                                                                \r"
     ]
    }
   ],
   "source": [
    "feat_data.write.mode(\"overwrite\").parquet(\"feature_engineered_data.parquet\")"
   ]
  },
  {
   "cell_type": "markdown",
   "id": "72a9abbd",
   "metadata": {},
   "source": [
    "# Problem 3: Integrate ML Training"
   ]
  },
  {
   "cell_type": "markdown",
   "id": "6373e579",
   "metadata": {},
   "source": [
    "# Scenario 1: Machine Learning with Sci-kit Learn and Pandas Dataframes"
   ]
  },
  {
   "cell_type": "code",
   "execution_count": 2,
   "id": "feb4c258",
   "metadata": {},
   "outputs": [
    {
     "data": {
      "text/html": [
       "<div>\n",
       "<style scoped>\n",
       "    .dataframe tbody tr th:only-of-type {\n",
       "        vertical-align: middle;\n",
       "    }\n",
       "\n",
       "    .dataframe tbody tr th {\n",
       "        vertical-align: top;\n",
       "    }\n",
       "\n",
       "    .dataframe thead th {\n",
       "        text-align: right;\n",
       "    }\n",
       "</style>\n",
       "<table border=\"1\" class=\"dataframe\">\n",
       "  <thead>\n",
       "    <tr style=\"text-align: right;\">\n",
       "      <th></th>\n",
       "      <th>Symbol</th>\n",
       "      <th>Security_Name</th>\n",
       "      <th>Date</th>\n",
       "      <th>Open</th>\n",
       "      <th>High</th>\n",
       "      <th>Low</th>\n",
       "      <th>Close</th>\n",
       "      <th>Adj_Close</th>\n",
       "      <th>Volume</th>\n",
       "      <th>vol_moving_avg</th>\n",
       "      <th>adj_close_rolling_med</th>\n",
       "    </tr>\n",
       "  </thead>\n",
       "  <tbody>\n",
       "    <tr>\n",
       "      <th>0</th>\n",
       "      <td>A</td>\n",
       "      <td>Agilent Technologies, Inc. Common Stock</td>\n",
       "      <td>1999-11-18</td>\n",
       "      <td>32.546494</td>\n",
       "      <td>35.765381</td>\n",
       "      <td>28.612303</td>\n",
       "      <td>31.473534</td>\n",
       "      <td>27.068665</td>\n",
       "      <td>62546300.0</td>\n",
       "      <td>2.471217e+06</td>\n",
       "      <td>27.068665</td>\n",
       "    </tr>\n",
       "    <tr>\n",
       "      <th>1</th>\n",
       "      <td>A</td>\n",
       "      <td>Agilent Technologies, Inc. Common Stock</td>\n",
       "      <td>1999-11-19</td>\n",
       "      <td>30.713520</td>\n",
       "      <td>30.758226</td>\n",
       "      <td>28.478184</td>\n",
       "      <td>28.880543</td>\n",
       "      <td>24.838577</td>\n",
       "      <td>15234100.0</td>\n",
       "      <td>9.009267e+05</td>\n",
       "      <td>24.838577</td>\n",
       "    </tr>\n",
       "    <tr>\n",
       "      <th>2</th>\n",
       "      <td>A</td>\n",
       "      <td>Agilent Technologies, Inc. Common Stock</td>\n",
       "      <td>1999-11-22</td>\n",
       "      <td>29.551144</td>\n",
       "      <td>31.473534</td>\n",
       "      <td>28.657009</td>\n",
       "      <td>31.473534</td>\n",
       "      <td>27.068665</td>\n",
       "      <td>6577800.0</td>\n",
       "      <td>9.321067e+05</td>\n",
       "      <td>27.068665</td>\n",
       "    </tr>\n",
       "    <tr>\n",
       "      <th>3</th>\n",
       "      <td>A</td>\n",
       "      <td>Agilent Technologies, Inc. Common Stock</td>\n",
       "      <td>1999-11-23</td>\n",
       "      <td>30.400572</td>\n",
       "      <td>31.205294</td>\n",
       "      <td>28.612303</td>\n",
       "      <td>28.612303</td>\n",
       "      <td>24.607880</td>\n",
       "      <td>5975600.0</td>\n",
       "      <td>2.170640e+06</td>\n",
       "      <td>24.838577</td>\n",
       "    </tr>\n",
       "    <tr>\n",
       "      <th>4</th>\n",
       "      <td>A</td>\n",
       "      <td>Agilent Technologies, Inc. Common Stock</td>\n",
       "      <td>1999-11-24</td>\n",
       "      <td>28.701717</td>\n",
       "      <td>29.998211</td>\n",
       "      <td>28.612303</td>\n",
       "      <td>29.372318</td>\n",
       "      <td>25.261524</td>\n",
       "      <td>4843200.0</td>\n",
       "      <td>1.190587e+06</td>\n",
       "      <td>25.261524</td>\n",
       "    </tr>\n",
       "  </tbody>\n",
       "</table>\n",
       "</div>"
      ],
      "text/plain": [
       "  Symbol                            Security_Name        Date       Open  \\\n",
       "0      A  Agilent Technologies, Inc. Common Stock  1999-11-18  32.546494   \n",
       "1      A  Agilent Technologies, Inc. Common Stock  1999-11-19  30.713520   \n",
       "2      A  Agilent Technologies, Inc. Common Stock  1999-11-22  29.551144   \n",
       "3      A  Agilent Technologies, Inc. Common Stock  1999-11-23  30.400572   \n",
       "4      A  Agilent Technologies, Inc. Common Stock  1999-11-24  28.701717   \n",
       "\n",
       "        High        Low      Close  Adj_Close      Volume  vol_moving_avg  \\\n",
       "0  35.765381  28.612303  31.473534  27.068665  62546300.0    2.471217e+06   \n",
       "1  30.758226  28.478184  28.880543  24.838577  15234100.0    9.009267e+05   \n",
       "2  31.473534  28.657009  31.473534  27.068665   6577800.0    9.321067e+05   \n",
       "3  31.205294  28.612303  28.612303  24.607880   5975600.0    2.170640e+06   \n",
       "4  29.998211  28.612303  29.372318  25.261524   4843200.0    1.190587e+06   \n",
       "\n",
       "   adj_close_rolling_med  \n",
       "0              27.068665  \n",
       "1              24.838577  \n",
       "2              27.068665  \n",
       "3              24.838577  \n",
       "4              25.261524  "
      ]
     },
     "execution_count": 2,
     "metadata": {},
     "output_type": "execute_result"
    }
   ],
   "source": [
    "import pandas as pd\n",
    "\n",
    "ml_data = pd.read_parquet(\"feature_engineered_data.parquet\")\n",
    "ml_data.head()"
   ]
  },
  {
   "cell_type": "code",
   "execution_count": 3,
   "id": "279152fd",
   "metadata": {},
   "outputs": [],
   "source": [
    "def sample_by_symbol(group):\n",
    "    return group.sample(min(len(group), 100))\n",
    "\n",
    "# group by symbol and apply the sampling function\n",
    "ml_data_sampled = ml_data.groupby('Symbol').apply(sample_by_symbol)\n",
    "\n",
    "# reset the index of the sampled dataframe\n",
    "ml_data_sampled = ml_data_sampled.reset_index(drop=True)"
   ]
  },
  {
   "cell_type": "code",
   "execution_count": 5,
   "id": "f59f4101",
   "metadata": {},
   "outputs": [
    {
     "name": "stdout",
     "output_type": "stream",
     "text": [
      "1138124.584698493 53754096320277.47\n"
     ]
    }
   ],
   "source": [
    "import logging\n",
    "import joblib\n",
    "from sklearn.model_selection import train_test_split\n",
    "from sklearn.ensemble import RandomForestRegressor\n",
    "from sklearn.metrics import mean_absolute_error, mean_squared_error\n",
    "\n",
    "# Assume `data` is loaded as a Pandas DataFrame\n",
    "ml_data_sampled['Date'] = pd.to_datetime(ml_data_sampled['Date'])\n",
    "ml_data_sampled.set_index('Date', inplace=True)\n",
    "\n",
    "# Remove rows with NaN values\n",
    "ml_data_sampled.dropna(inplace=True)\n",
    "\n",
    "# Select features and target\n",
    "features = ['vol_moving_avg', 'adj_close_rolling_med']\n",
    "target = 'Volume'\n",
    "\n",
    "X = ml_data_sampled[features]\n",
    "y = ml_data_sampled[target]\n",
    "\n",
    "# Split data into train and test sets\n",
    "X_train, X_test, y_train, y_test = train_test_split(X, y, test_size=0.2, random_state=42)\n",
    "\n",
    "# Create a RandomForestRegressor model\n",
    "model = RandomForestRegressor(n_estimators=100, random_state=42, n_jobs=-1)\n",
    "\n",
    "logger = logging.getLogger(__name__)\n",
    "# Train the model\n",
    "with joblib.parallel_backend('multiprocessing', n_jobs=-1):\n",
    "    model.fit(X_train, y_train)\n",
    "\n",
    "# Make predictions on test data\n",
    "y_pred = model.predict(X_test)\n",
    "\n",
    "# Calculate the Mean Absolute Error and Mean Squared Error\n",
    "mae = mean_absolute_error(y_test, y_pred)\n",
    "mse = mean_squared_error(y_test, y_pred)\n",
    "logger.info(f'Mean Absolute Error: {mae:.4f}, Mean Squared Error: {mse:.4f}')\n",
    "print(mae, mse)"
   ]
  },
  {
   "cell_type": "code",
   "execution_count": 6,
   "id": "bc3fa088",
   "metadata": {},
   "outputs": [
    {
     "data": {
      "text/plain": [
       "['data_engineer_work_sample_model.joblib']"
      ]
     },
     "execution_count": 6,
     "metadata": {},
     "output_type": "execute_result"
    }
   ],
   "source": [
    "import joblib\n",
    "\n",
    "joblib.dump(model, 'data_engineer_work_sample_model.joblib')"
   ]
  },
  {
   "cell_type": "markdown",
   "id": "90b65b48",
   "metadata": {},
   "source": [
    "# Problem 4: Model Serving"
   ]
  },
  {
   "cell_type": "code",
   "execution_count": 12,
   "id": "d9e84572",
   "metadata": {},
   "outputs": [
    {
     "name": "stdout",
     "output_type": "stream",
     "text": [
      "1394\n"
     ]
    }
   ],
   "source": [
    "import requests\n",
    "\n",
    "url = 'http://127.0.0.1:8080/predict'\n",
    "params = {'vol_moving_avg': 12345, 'adj_close_rolling_med': 25}\n",
    "response = requests.get(url, params=params)\n",
    "\n",
    "print(response.text)"
   ]
  },
  {
   "cell_type": "code",
   "execution_count": 16,
   "id": "ced0e4a6",
   "metadata": {},
   "outputs": [
    {
     "name": "stdout",
     "output_type": "stream",
     "text": [
      "1394"
     ]
    }
   ],
   "source": [
    "!curl \"http://localhost:8080/predict?vol_moving_avg=12345&adj_close_rolling_med=25\""
   ]
  },
  {
   "cell_type": "markdown",
   "id": "f616c6be",
   "metadata": {},
   "source": [
    "# Alternate Scenario for Machine Learning Training: Machine Learning with SparkML and Pyspark Dataframes"
   ]
  },
  {
   "cell_type": "code",
   "execution_count": 1,
   "id": "8697ea81",
   "metadata": {},
   "outputs": [
    {
     "name": "stderr",
     "output_type": "stream",
     "text": [
      "Using Spark's default log4j profile: org/apache/spark/log4j-defaults.properties\n",
      "Setting default log level to \"WARN\".\n",
      "To adjust logging level use sc.setLogLevel(newLevel). For SparkR, use setLogLevel(newLevel).\n",
      "23/05/03 19:49:53 WARN NativeCodeLoader: Unable to load native-hadoop library for your platform... using builtin-java classes where applicable\n",
      "                                                                                \r"
     ]
    }
   ],
   "source": [
    "from pyspark.sql import SparkSession\n",
    "spark = SparkSession.builder.appName('data_engineer_work_sample').master(\"local[*]\")\\\n",
    "    .config(\"spark.network.timeout\", \"1200s\").getOrCreate()\n",
    "\n",
    "pyspark_ml_data = spark.read.parquet(\"feature_engineered_data.parquet\")\n"
   ]
  },
  {
   "cell_type": "code",
   "execution_count": null,
   "id": "dd5d586e",
   "metadata": {},
   "outputs": [],
   "source": [
    "from pyspark.ml.tuning import CrossValidator, ParamGridBuilder\n",
    "from pyspark.ml.evaluation import RegressionEvaluator\n",
    "from pyspark.ml.regression import RandomForestRegressor\n",
    "from pyspark.ml.feature import VectorAssembler\n",
    "from pyspark.ml import Pipeline\n",
    "\n",
    "\n",
    "(train_data, test_data)= pyspark_ml_data.randomSplit([0.8, 0.2], 1111)\n",
    "\n",
    "# Define the feature columns\n",
    "feature_cols = [\"vol_moving_avg\", \"adj_close_rolling_med\"]\n",
    "\n",
    "# Create a vector assembler to combine the features\n",
    "assembler = VectorAssembler(outputCol=\"features\").setInputCols([\"vol_moving_avg\", \"adj_close_rolling_med\"]).setOutputCol(\"assembled-features\")\n",
    "\n",
    "# Create a random forest regressor\n",
    "rf = RandomForestRegressor(featuresCol=\"assembled-features\").setLabelCol(\"Volume\")\n",
    "\n",
    "pipeline = Pipeline(stages = [assembler,rf])\n",
    "\n",
    "evaluator = RegressionEvaluator(labelCol=\"Volume\", predictionCol=\"prediction\")\n",
    "\n",
    "# Create a parameter grid for the random forest regressor\n",
    "param_grid = (ParamGridBuilder()\n",
    "              .addGrid(rf.numTrees, [10, 20])\n",
    "              .addGrid(rf.maxDepth, [5, 10])\n",
    "              .build())\n",
    "\n",
    "# Create a cross-validator\n",
    "cv = CrossValidator(estimator=pipeline,\n",
    "                    estimatorParamMaps=param_grid,\n",
    "                    evaluator=evaluator,\n",
    "                    numFolds=3)\n",
    "\n",
    "# Fit the model on the training data\n",
    "cv_model = cv.fit(train_data)\n",
    "\n",
    "# Make predictions on the test data\n",
    "predictions = cv_model.transform(test_data)\n",
    "\n",
    "# Evaluate the performance of the model\n",
    "\n",
    "rmse = evaluator.evaluate(predictions, {evaluator.metricName: \"rmse\"})\n",
    "r2 = evaluator.evaluate(predictions, {evaluator.metricName: \"r2\"})\n",
    "mae = evaluator.evaluate(predictions, {evaluator.metricName: \"mae\"})\n",
    "mse = evaluator.evaluate(predictions, {evaluator.metricName: \"mse\"})\n",
    "\n",
    "# Print the results\n",
    "print(f\"RMSE: {rmse:.4f}\")\n",
    "print(f\"R-squared: {r2:.4f}\")\n",
    "print(f\"MAE: {mae:.4f}\")\n",
    "print(f\"MSE: {mse:.4f}\")"
   ]
  },
  {
   "cell_type": "code",
   "execution_count": null,
   "id": "26072bce",
   "metadata": {},
   "outputs": [],
   "source": []
  }
 ],
 "metadata": {
  "kernelspec": {
   "display_name": "Python 3.10 (tensorflow)",
   "language": "python",
   "name": "tensorflow"
  },
  "language_info": {
   "codemirror_mode": {
    "name": "ipython",
    "version": 3
   },
   "file_extension": ".py",
   "mimetype": "text/x-python",
   "name": "python",
   "nbconvert_exporter": "python",
   "pygments_lexer": "ipython3",
   "version": "3.10.8"
  }
 },
 "nbformat": 4,
 "nbformat_minor": 5
}
